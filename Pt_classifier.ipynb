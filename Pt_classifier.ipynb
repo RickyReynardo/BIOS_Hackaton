{
 "cells": [
  {
   "cell_type": "code",
   "execution_count": 1,
   "metadata": {},
   "outputs": [],
   "source": [
    "import pandas as pd\n",
    "import numpy as np\n",
    "import sklearn \n",
    "from sklearn.linear_model import LogisticRegression\n",
    "import matplotlib as plt\n"
   ]
  },
  {
   "cell_type": "code",
   "execution_count": 57,
   "metadata": {},
   "outputs": [],
   "source": [
    "file=pd.read_csv(\"C:/Users/Lim/Desktop/dataset1.csv\")"
   ]
  },
  {
   "cell_type": "code",
   "execution_count": 54,
   "metadata": {},
   "outputs": [],
   "source": [
    "#file"
   ]
  },
  {
   "cell_type": "code",
   "execution_count": 58,
   "metadata": {},
   "outputs": [
    {
     "data": {
      "text/html": [
       "<div>\n",
       "<style scoped>\n",
       "    .dataframe tbody tr th:only-of-type {\n",
       "        vertical-align: middle;\n",
       "    }\n",
       "\n",
       "    .dataframe tbody tr th {\n",
       "        vertical-align: top;\n",
       "    }\n",
       "\n",
       "    .dataframe thead th {\n",
       "        text-align: right;\n",
       "    }\n",
       "</style>\n",
       "<table border=\"1\" class=\"dataframe\">\n",
       "  <thead>\n",
       "    <tr style=\"text-align: right;\">\n",
       "      <th></th>\n",
       "      <th>berat</th>\n",
       "      <th>tingg</th>\n",
       "      <th>tinggi</th>\n",
       "      <th>gender</th>\n",
       "      <th>berat ideal</th>\n",
       "    </tr>\n",
       "    <tr>\n",
       "      <th>kesimpulan</th>\n",
       "      <th></th>\n",
       "      <th></th>\n",
       "      <th></th>\n",
       "      <th></th>\n",
       "      <th></th>\n",
       "    </tr>\n",
       "  </thead>\n",
       "  <tbody>\n",
       "    <tr>\n",
       "      <th>normal</th>\n",
       "      <td>72</td>\n",
       "      <td>72</td>\n",
       "      <td>72</td>\n",
       "      <td>72</td>\n",
       "      <td>72</td>\n",
       "    </tr>\n",
       "    <tr>\n",
       "      <th>obesitas</th>\n",
       "      <td>218</td>\n",
       "      <td>218</td>\n",
       "      <td>218</td>\n",
       "      <td>218</td>\n",
       "      <td>218</td>\n",
       "    </tr>\n",
       "    <tr>\n",
       "      <th>over weight</th>\n",
       "      <td>37</td>\n",
       "      <td>37</td>\n",
       "      <td>37</td>\n",
       "      <td>37</td>\n",
       "      <td>37</td>\n",
       "    </tr>\n",
       "    <tr>\n",
       "      <th>under weight</th>\n",
       "      <td>23</td>\n",
       "      <td>23</td>\n",
       "      <td>23</td>\n",
       "      <td>23</td>\n",
       "      <td>23</td>\n",
       "    </tr>\n",
       "  </tbody>\n",
       "</table>\n",
       "</div>"
      ],
      "text/plain": [
       "              berat  tingg  tinggi  gender  berat ideal\n",
       "kesimpulan                                             \n",
       "normal           72     72      72      72           72\n",
       "obesitas        218    218     218     218          218\n",
       "over weight      37     37      37      37           37\n",
       "under weight     23     23      23      23           23"
      ]
     },
     "execution_count": 58,
     "metadata": {},
     "output_type": "execute_result"
    }
   ],
   "source": [
    "file.groupby('kesimpulan').count()"
   ]
  },
  {
   "cell_type": "code",
   "execution_count": 56,
   "metadata": {},
   "outputs": [
    {
     "data": {
      "text/html": [
       "<div>\n",
       "<style scoped>\n",
       "    .dataframe tbody tr th:only-of-type {\n",
       "        vertical-align: middle;\n",
       "    }\n",
       "\n",
       "    .dataframe tbody tr th {\n",
       "        vertical-align: top;\n",
       "    }\n",
       "\n",
       "    .dataframe thead th {\n",
       "        text-align: right;\n",
       "    }\n",
       "</style>\n",
       "<table border=\"1\" class=\"dataframe\">\n",
       "  <thead>\n",
       "    <tr style=\"text-align: right;\">\n",
       "      <th></th>\n",
       "      <th>berat</th>\n",
       "      <th>tingg</th>\n",
       "      <th>tinggi</th>\n",
       "      <th>berat ideal</th>\n",
       "      <th>kesimpulan</th>\n",
       "    </tr>\n",
       "    <tr>\n",
       "      <th>gender</th>\n",
       "      <th></th>\n",
       "      <th></th>\n",
       "      <th></th>\n",
       "      <th></th>\n",
       "      <th></th>\n",
       "    </tr>\n",
       "  </thead>\n",
       "  <tbody>\n",
       "    <tr>\n",
       "      <th>Female</th>\n",
       "      <td>200</td>\n",
       "      <td>200</td>\n",
       "      <td>200</td>\n",
       "      <td>200</td>\n",
       "      <td>200</td>\n",
       "    </tr>\n",
       "    <tr>\n",
       "      <th>Male</th>\n",
       "      <td>200</td>\n",
       "      <td>200</td>\n",
       "      <td>200</td>\n",
       "      <td>200</td>\n",
       "      <td>200</td>\n",
       "    </tr>\n",
       "  </tbody>\n",
       "</table>\n",
       "</div>"
      ],
      "text/plain": [
       "        berat  tingg  tinggi  berat ideal  kesimpulan\n",
       "gender                                               \n",
       "Female    200    200     200          200         200\n",
       "Male      200    200     200          200         200"
      ]
     },
     "execution_count": 56,
     "metadata": {},
     "output_type": "execute_result"
    }
   ],
   "source": [
    "file.groupby('gender').count()"
   ]
  },
  {
   "cell_type": "code",
   "execution_count": 3,
   "metadata": {},
   "outputs": [],
   "source": [
    "dummies=pd.get_dummies(file.gender)"
   ]
  },
  {
   "cell_type": "code",
   "execution_count": 4,
   "metadata": {},
   "outputs": [],
   "source": [
    "file1=pd.concat([file,dummies],axis='columns')"
   ]
  },
  {
   "cell_type": "code",
   "execution_count": 5,
   "metadata": {},
   "outputs": [],
   "source": [
    "final=file1.drop(['no id','berat','tingg','Female','gender'],axis='columns')"
   ]
  },
  {
   "cell_type": "code",
   "execution_count": 6,
   "metadata": {},
   "outputs": [],
   "source": [
    "a=final.iloc[:,:-2].values\n",
    "b=final.iloc[:,3:4].values"
   ]
  },
  {
   "cell_type": "code",
   "execution_count": 7,
   "metadata": {},
   "outputs": [],
   "source": [
    "x=np.concatenate((a,b),axis=1)"
   ]
  },
  {
   "cell_type": "code",
   "execution_count": 8,
   "metadata": {},
   "outputs": [
    {
     "data": {
      "text/plain": [
       "array([[ 1.6 , 16.5 ,  1.  ],\n",
       "       [ 1.6 , 16.99,  1.  ],\n",
       "       [ 1.6 , 17.  ,  1.  ],\n",
       "       ...,\n",
       "       [ 1.41, 68.41,  0.  ],\n",
       "       [ 1.5 , 42.22,  1.  ],\n",
       "       [ 1.73, 43.77,  1.  ]])"
      ]
     },
     "execution_count": 8,
     "metadata": {},
     "output_type": "execute_result"
    }
   ],
   "source": [
    "x"
   ]
  },
  {
   "cell_type": "code",
   "execution_count": 9,
   "metadata": {},
   "outputs": [],
   "source": [
    "#x=final.iloc[:,:-5].values\n",
    "y=final.iloc[:,2:3].values"
   ]
  },
  {
   "cell_type": "code",
   "execution_count": 10,
   "metadata": {},
   "outputs": [],
   "source": [
    "from sklearn import preprocessing"
   ]
  },
  {
   "cell_type": "code",
   "execution_count": 11,
   "metadata": {},
   "outputs": [],
   "source": [
    "lb = preprocessing.LabelBinarizer()\n",
    "lb1=lb.fit_transform(y)"
   ]
  },
  {
   "cell_type": "code",
   "execution_count": 12,
   "metadata": {},
   "outputs": [
    {
     "data": {
      "text/plain": [
       "LabelBinarizer(neg_label=0, pos_label=1, sparse_output=False)"
      ]
     },
     "execution_count": 12,
     "metadata": {},
     "output_type": "execute_result"
    }
   ],
   "source": [
    "lb.fit(y)\n",
    "#lb1.classes_"
   ]
  },
  {
   "cell_type": "code",
   "execution_count": 13,
   "metadata": {},
   "outputs": [
    {
     "data": {
      "text/plain": [
       "array(['normal', 'obesitas', 'over weight', 'under weight'], dtype='<U12')"
      ]
     },
     "execution_count": 13,
     "metadata": {},
     "output_type": "execute_result"
    }
   ],
   "source": [
    "lb.classes_"
   ]
  },
  {
   "cell_type": "code",
   "execution_count": 14,
   "metadata": {},
   "outputs": [],
   "source": [
    "label=np.asarray(lb1)"
   ]
  },
  {
   "cell_type": "code",
   "execution_count": 15,
   "metadata": {},
   "outputs": [],
   "source": [
    "X=x/255"
   ]
  },
  {
   "cell_type": "code",
   "execution_count": 16,
   "metadata": {},
   "outputs": [],
   "source": [
    "from sklearn.model_selection import train_test_split\n",
    "x_train,x_test,y_train,y_test= train_test_split(X,label,test_size=0.2,random_state=0)"
   ]
  },
  {
   "cell_type": "code",
   "execution_count": 20,
   "metadata": {},
   "outputs": [],
   "source": [
    "from keras import layers\n",
    "from keras.layers import Input, Dense, Activation, Dropout\n",
    "import keras\n",
    "from keras.models import Sequential"
   ]
  },
  {
   "cell_type": "code",
   "execution_count": 21,
   "metadata": {},
   "outputs": [],
   "source": [
    "model= Sequential()"
   ]
  },
  {
   "cell_type": "code",
   "execution_count": 22,
   "metadata": {},
   "outputs": [],
   "source": [
    "model.add(Dense(50,input_shape=(3,)))\n",
    "model.add(Activation('softmax'))\n",
    "model.add(Dropout(0.5))\n",
    "model.add(Dense(4))\n",
    "model.add(Activation('softmax'))"
   ]
  },
  {
   "cell_type": "code",
   "execution_count": 23,
   "metadata": {},
   "outputs": [],
   "source": [
    "model.compile(optimizer = 'adam', loss = \"categorical_crossentropy\", metrics = ['accuracy'])"
   ]
  },
  {
   "cell_type": "code",
   "execution_count": 24,
   "metadata": {},
   "outputs": [
    {
     "name": "stdout",
     "output_type": "stream",
     "text": [
      "Epoch 1/30\n",
      "412/412 [==============================] - 1s 2ms/step - loss: 1.2131 - acc: 0.6917\n",
      "Epoch 2/30\n",
      "412/412 [==============================] - 0s 1ms/step - loss: 0.9922 - acc: 0.7233\n",
      "Epoch 3/30\n",
      "412/412 [==============================] - 0s 1ms/step - loss: 0.9095 - acc: 0.7233\n",
      "Epoch 4/30\n",
      "412/412 [==============================] - 0s 1ms/step - loss: 0.8782 - acc: 0.7233\n",
      "Epoch 5/30\n",
      "412/412 [==============================] - 0s 1ms/step - loss: 0.8655 - acc: 0.7233\n",
      "Epoch 6/30\n",
      "412/412 [==============================] - 0s 1ms/step - loss: 0.8574 - acc: 0.7233\n",
      "Epoch 7/30\n",
      "412/412 [==============================] - 0s 1ms/step - loss: 0.8585 - acc: 0.7233\n",
      "Epoch 8/30\n",
      "412/412 [==============================] - 0s 1ms/step - loss: 0.8579 - acc: 0.7233\n",
      "Epoch 9/30\n",
      "412/412 [==============================] - 0s 1ms/step - loss: 0.8551 - acc: 0.7233\n",
      "Epoch 10/30\n",
      "412/412 [==============================] - 0s 1ms/step - loss: 0.8648 - acc: 0.7233\n",
      "Epoch 11/30\n",
      "412/412 [==============================] - 0s 1ms/step - loss: 0.8526 - acc: 0.7233\n",
      "Epoch 12/30\n",
      "412/412 [==============================] - 0s 1ms/step - loss: 0.8519 - acc: 0.7233\n",
      "Epoch 13/30\n",
      "412/412 [==============================] - 1s 1ms/step - loss: 0.8578 - acc: 0.7233\n",
      "Epoch 14/30\n",
      "412/412 [==============================] - 0s 1ms/step - loss: 0.8558 - acc: 0.7233\n",
      "Epoch 15/30\n",
      "412/412 [==============================] - 0s 1ms/step - loss: 0.8521 - acc: 0.7233\n",
      "Epoch 16/30\n",
      "412/412 [==============================] - 0s 1ms/step - loss: 0.8484 - acc: 0.7233\n",
      "Epoch 17/30\n",
      "412/412 [==============================] - 0s 1ms/step - loss: 0.8540 - acc: 0.7233\n",
      "Epoch 18/30\n",
      "412/412 [==============================] - 0s 1ms/step - loss: 0.8580 - acc: 0.7233\n",
      "Epoch 19/30\n",
      "412/412 [==============================] - 0s 1ms/step - loss: 0.8506 - acc: 0.7233\n",
      "Epoch 20/30\n",
      "412/412 [==============================] - 0s 1ms/step - loss: 0.8480 - acc: 0.7233\n",
      "Epoch 21/30\n",
      "412/412 [==============================] - 1s 1ms/step - loss: 0.8526 - acc: 0.7233\n",
      "Epoch 22/30\n",
      "412/412 [==============================] - 1s 1ms/step - loss: 0.8498 - acc: 0.7233\n",
      "Epoch 23/30\n",
      "412/412 [==============================] - 1s 1ms/step - loss: 0.8483 - acc: 0.7233\n",
      "Epoch 24/30\n",
      "412/412 [==============================] - 1s 1ms/step - loss: 0.8476 - acc: 0.7233\n",
      "Epoch 25/30\n",
      "412/412 [==============================] - 1s 1ms/step - loss: 0.8511 - acc: 0.7233\n",
      "Epoch 26/30\n",
      "412/412 [==============================] - 1s 1ms/step - loss: 0.8406 - acc: 0.7233\n",
      "Epoch 27/30\n",
      "412/412 [==============================] - 1s 1ms/step - loss: 0.8395 - acc: 0.7233\n",
      "Epoch 28/30\n",
      "412/412 [==============================] - 0s 1ms/step - loss: 0.8414 - acc: 0.7233\n",
      "Epoch 29/30\n",
      "412/412 [==============================] - 1s 1ms/step - loss: 0.8363 - acc: 0.7233\n",
      "Epoch 30/30\n",
      "412/412 [==============================] - 1s 1ms/step - loss: 0.8352 - acc: 0.7233\n"
     ]
    },
    {
     "data": {
      "text/plain": [
       "<keras.callbacks.History at 0x23b1fc7aba8>"
      ]
     },
     "execution_count": 24,
     "metadata": {},
     "output_type": "execute_result"
    }
   ],
   "source": [
    "model.fit(x = x_train, y =y_train, epochs = 30, batch_size = 1)"
   ]
  },
  {
   "cell_type": "code",
   "execution_count": 25,
   "metadata": {},
   "outputs": [
    {
     "name": "stdout",
     "output_type": "stream",
     "text": [
      "104/104 [==============================] - 0s 700us/step\n",
      "loss = 0.712946735895597\n",
      "accuracy = 0.8076923076923077\n"
     ]
    }
   ],
   "source": [
    "preds = model.evaluate(x=x_test, y=y_test)\n",
    "print('loss = '+str(preds[0]))\n",
    "print('accuracy = '+str(preds[1]))"
   ]
  },
  {
   "cell_type": "code",
   "execution_count": 31,
   "metadata": {},
   "outputs": [
    {
     "data": {
      "text/plain": [
       "array([[0.06421665, 0.8677185 , 0.03880259, 0.02926222]], dtype=float32)"
      ]
     },
     "execution_count": 31,
     "metadata": {},
     "output_type": "execute_result"
    }
   ],
   "source": [
    "model.predict([[[ 1.6 , 17.  , 1]]])"
   ]
  },
  {
   "cell_type": "code",
   "execution_count": 27,
   "metadata": {},
   "outputs": [],
   "source": [
    "ab=model.predict([[[1.41, 68.41,  0]]])"
   ]
  },
  {
   "cell_type": "code",
   "execution_count": 28,
   "metadata": {},
   "outputs": [],
   "source": [
    "if ab[0,0] == 1:\n",
    "    print('normal')\n",
    "elif ab[0,1] == 1:\n",
    "    print('obesitas')\n",
    "elif ab[0,2] == 1:\n",
    "    print('over weight')\n",
    "elif ab[0,3] == 1:\n",
    "    print('under weight')"
   ]
  },
  {
   "cell_type": "code",
   "execution_count": null,
   "metadata": {},
   "outputs": [],
   "source": [
    "array(['normal', 'obesitas', 'over weight', 'under weight'], dtype='<U12')"
   ]
  }
 ],
 "metadata": {
  "kernelspec": {
   "display_name": "Python 3",
   "language": "python",
   "name": "python3"
  },
  "language_info": {
   "codemirror_mode": {
    "name": "ipython",
    "version": 3
   },
   "file_extension": ".py",
   "mimetype": "text/x-python",
   "name": "python",
   "nbconvert_exporter": "python",
   "pygments_lexer": "ipython3",
   "version": "3.6.8"
  }
 },
 "nbformat": 4,
 "nbformat_minor": 2
}
